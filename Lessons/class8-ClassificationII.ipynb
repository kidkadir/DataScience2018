{
 "cells": [
  {
   "cell_type": "markdown",
   "metadata": {
    "slideshow": {
     "slide_type": "slide"
    }
   },
   "source": [
    "# class 8 Regularized Regression/Classification"
   ]
  },
  {
   "cell_type": "markdown",
   "metadata": {
    "slideshow": {
     "slide_type": "slide"
    }
   },
   "source": [
    "- [7.0 Datasets](#7.0-Datasets)\n",
    "    - [7.0.1 Load data](#7.0.1-Load-data)\n",
    "    - [7.0.2 Data Exploration](#7.0.2-Data-Exploration) \n",
    "- [7.1 Logistic Regression](#7.1-Logistic-Regression)\n",
    "    - [7.1.1 Coefficients as Odds](#7.1.1-Coefficients-as-Odds)\n",
    "    - [7.1.2 Think Stats Data](#7.1.2-Think-Stats-Data)\n",
    "    - [7.1.3 Tasks](#7.1.3-Tasks)\n",
    "    - [7.1.4 The Iris dataset](#7.1.4-The-Iris-dataset)\n",
    "- [7.2 kaggle](#7.2-kaggle)\n",
    "    - [7.2.1 Housing Data](#7.2.1-Housing-Data)\n",
    "    - [7.2.2 Your first submission](#7.2.2-Your-first-submission)\n",
    "- [7.3 Other Classifiers](#7.3-Other-Classifiers)\n",
    "    - [7.3.1 K Nearest Neighbors](#7.2.2-K-Nearest-Neighbors)"
   ]
  },
  {
   "cell_type": "markdown",
   "metadata": {},
   "source": [
    "#### 7.2-kaggle\n",
    "#####  7.2.1 Housing Data\n",
    "#####  7.2.2 Your first submission\n",
    "    "
   ]
  },
  {
   "cell_type": "markdown",
   "metadata": {},
   "source": [
    "----------------------------------------------------------\n",
    "### 7.3 Other Classifiers\n",
    "\n",
    "##### 7.3.1 K Nearest Neighbors"
   ]
  },
  {
   "cell_type": "code",
   "execution_count": null,
   "metadata": {},
   "outputs": [],
   "source": []
  }
 ],
 "metadata": {
  "kernelspec": {
   "display_name": "Python 3",
   "language": "python",
   "name": "python3"
  },
  "language_info": {
   "codemirror_mode": {
    "name": "ipython",
    "version": 3
   },
   "file_extension": ".py",
   "mimetype": "text/x-python",
   "name": "python",
   "nbconvert_exporter": "python",
   "pygments_lexer": "ipython3",
   "version": "3.6.4"
  }
 },
 "nbformat": 4,
 "nbformat_minor": 1
}
