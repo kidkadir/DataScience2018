{
 "cells": [
  {
   "cell_type": "code",
   "execution_count": 1,
   "metadata": {},
   "outputs": [
    {
     "name": "stderr",
     "output_type": "stream",
     "text": [
      "C:\\ProgramData\\Anaconda3\\lib\\site-packages\\statsmodels\\compat\\pandas.py:56: FutureWarning: The pandas.core.datetools module is deprecated and will be removed in a future version. Please use the pandas.tseries module instead.\n",
      "  from pandas.core import datetools\n"
     ]
    },
    {
     "data": {
      "text/plain": [
       "'%.3f'"
      ]
     },
     "execution_count": 1,
     "metadata": {},
     "output_type": "execute_result"
    }
   ],
   "source": [
    "import statsmodels.api as sm\n",
    "import statsmodels.formula.api as smf\n",
    "import seaborn as sns\n",
    "\n",
    "%precision 3"
   ]
  },
  {
   "cell_type": "markdown",
   "metadata": {},
   "source": [
    "### Homework 6\n"
   ]
  },
  {
   "cell_type": "markdown",
   "metadata": {},
   "source": [
    "### Tasks\n",
    "\n",
    "\n",
    "1. Read sections 5.2, 3.1-3.4, 5.1 from the ISLR book thoroughly.\n",
    "    \n",
    "2. Suppose we have a data set with five predictors, $X1 = \\mathrm{GPA}$, $X2 = \\mathrm{IQ}$, $X3 = \\mathrm{Gender}$ (1 for Female and 0 for Male), $X4 = \\mathrm{Interaction\\ between\\ GPA\\ and\\ IQ}$, and $X5 = \\mathrm{Interaction\\ between\\ GPA\\ and\\ Gender}$. The response is starting salary after graduation (in thousands of dollars). Suppose we use least squares to fit the model, and get $\\hat{\\beta_0} = 50$, $\\hat{\\beta_1} = 20$, $\\hat{\\beta_2} = 0.07$, $\\hat{\\beta_3} = 35$, $\\hat{\\beta_4} = 0.01$, $\\hat{\\beta_5} = -10$.\n",
    "\n",
    "    * Which answer is correct, and why?\n",
    "        1. For a fixed value of IQ and GPA, males earn more on average than females.\n",
    "        2. For a fixed value of IQ and GPA, females earn more on average than males.\n",
    "        3. For a fixed value of IQ and GPA, males earn more on average than females provided that the GPA is high enough.\n",
    "        4. For a fixed value of IQ and GPA, females earn more on average than males provided that the GPA is high enough.\n",
    "\n",
    "    * Predict the salary of a female with IQ of 110 and a GPA of 4.0.\n",
    "\n",
    "    * True or false: Since the coefficient for the GPA/IQ interaction term is very small, there is very little evidence of an interaction effect. Justify your answer.\n",
    "     \n",
    "3. For the titanic interaction model below\n",
    "    * Compute the estimated survival probability for the first 2 rows in the Titanic data set \"by hand\" and compare with the predict function.\n",
    "    * Explain the precise meaning of the first two coefficients of the linear model.\n",
    "    * Test the hypothesis that being a third class passenger lowered the survival probability by as much as one half relative to 1st class, i.e. $H_0: \\beta_{Pclass3} \\leq  -0.5$."
   ]
  },
  {
   "cell_type": "code",
   "execution_count": 2,
   "metadata": {
    "scrolled": true
   },
   "outputs": [
    {
     "data": {
      "text/html": [
       "<table class=\"simpletable\">\n",
       "<tr>\n",
       "         <td></td>           <th>coef</th>     <th>std err</th>      <th>t</th>      <th>P>|t|</th>  <th>[0.025</th>    <th>0.975]</th>  \n",
       "</tr>\n",
       "<tr>\n",
       "  <th>Intercept</th>      <td>    1.1250</td> <td>    0.051</td> <td>   22.202</td> <td> 0.000</td> <td>    1.026</td> <td>    1.225</td>\n",
       "</tr>\n",
       "<tr>\n",
       "  <th>C(sex)[T.male]</th> <td>   -0.4795</td> <td>    0.031</td> <td>  -15.608</td> <td> 0.000</td> <td>   -0.540</td> <td>   -0.419</td>\n",
       "</tr>\n",
       "<tr>\n",
       "  <th>C(pclass)[T.2]</th> <td>   -0.2077</td> <td>    0.042</td> <td>   -4.983</td> <td> 0.000</td> <td>   -0.290</td> <td>   -0.126</td>\n",
       "</tr>\n",
       "<tr>\n",
       "  <th>C(pclass)[T.3]</th> <td>   -0.4066</td> <td>    0.038</td> <td>  -10.620</td> <td> 0.000</td> <td>   -0.482</td> <td>   -0.331</td>\n",
       "</tr>\n",
       "<tr>\n",
       "  <th>age</th>            <td>   -0.0055</td> <td>    0.001</td> <td>   -5.039</td> <td> 0.000</td> <td>   -0.008</td> <td>   -0.003</td>\n",
       "</tr>\n",
       "</table>"
      ],
      "text/plain": [
       "<class 'statsmodels.iolib.table.SimpleTable'>"
      ]
     },
     "execution_count": 2,
     "metadata": {},
     "output_type": "execute_result"
    }
   ],
   "source": [
    "#load data \n",
    "titanic = sns.load_dataset('titanic')\n",
    "est = smf.ols('survived ~ age  + C(sex) +C(pclass) ', titanic).fit()\n",
    "est.summary().tables[1]"
   ]
  },
  {
   "cell_type": "markdown",
   "metadata": {},
   "source": [
    "#### Solution Problem 2"
   ]
  },
  {
   "cell_type": "markdown",
   "metadata": {},
   "source": [
    "The least square line is given by\n",
    "$$\n",
    "\\hat{y} = 50 + 20GPA + 0.07IQ + 35Gender + 0.01GPA\\times IQ - 10GPA\\times Gender\n",
    "$$\n",
    "which becomes for the males\n",
    "$$\n",
    "\\hat{y} = 50 + 20GPA + 0.07IQ + 0.01GPA\\times IQ,\n",
    "$$\n",
    "and for the females\n",
    "$$\n",
    "\\hat{y} = 85 + 10GPA + 0.07IQ + 0.01GPA\\times IQ.\n",
    "$$\n",
    "So the starting salary for males is higher than for females on average iff $50 + 20GPA\\ge 85 + 10GPA$ which is equivalent to $GPA\\ge 3.5$. Therefore C. is the right answer.\n",
    "\n",
    "\n",
    "(b) Predict the salary of a female with IQ of 110 and a GPA of 4.0.\n",
    "\n",
    "*It suffices to plug in the given values in the least square line for females given above and we obtain\n",
    "$$\n",
    "\\hat{y} = 85 + 40 + 7.7 + 4.4 = 137.1,\n",
    "$$\n",
    "which gives us a starting salary of $137100\\$$.*\n",
    "\n",
    "(c) True or false: Since the coefficient for the GPA/IQ interaction term is very small, there is very little evidence of an interaction effect. Justify your answer.\n",
    "\n",
    "*False. To verify if the GPA/IQ has an impact on the quality of the model we need to test the hypothesis $H_0 : \\hat{\\beta_4} = 0$ and look at the p-value associated with the $t$ or the $F$ statistic to draw a conclusion.*"
   ]
  },
  {
   "cell_type": "markdown",
   "metadata": {},
   "source": [
    "#### Solution Problem 3"
   ]
  },
  {
   "cell_type": "code",
   "execution_count": 7,
   "metadata": {
    "scrolled": true
   },
   "outputs": [
    {
     "data": {
      "text/html": [
       "<div>\n",
       "<style scoped>\n",
       "    .dataframe tbody tr th:only-of-type {\n",
       "        vertical-align: middle;\n",
       "    }\n",
       "\n",
       "    .dataframe tbody tr th {\n",
       "        vertical-align: top;\n",
       "    }\n",
       "\n",
       "    .dataframe thead th {\n",
       "        text-align: right;\n",
       "    }\n",
       "</style>\n",
       "<table border=\"1\" class=\"dataframe\">\n",
       "  <thead>\n",
       "    <tr style=\"text-align: right;\">\n",
       "      <th></th>\n",
       "      <th>survived</th>\n",
       "      <th>pclass</th>\n",
       "      <th>sex</th>\n",
       "      <th>age</th>\n",
       "      <th>sibsp</th>\n",
       "      <th>parch</th>\n",
       "      <th>fare</th>\n",
       "      <th>embarked</th>\n",
       "      <th>class</th>\n",
       "      <th>who</th>\n",
       "      <th>adult_male</th>\n",
       "      <th>deck</th>\n",
       "      <th>embark_town</th>\n",
       "      <th>alive</th>\n",
       "      <th>alone</th>\n",
       "    </tr>\n",
       "  </thead>\n",
       "  <tbody>\n",
       "    <tr>\n",
       "      <th>0</th>\n",
       "      <td>0</td>\n",
       "      <td>3</td>\n",
       "      <td>male</td>\n",
       "      <td>22.0</td>\n",
       "      <td>1</td>\n",
       "      <td>0</td>\n",
       "      <td>7.2500</td>\n",
       "      <td>S</td>\n",
       "      <td>Third</td>\n",
       "      <td>man</td>\n",
       "      <td>True</td>\n",
       "      <td>NaN</td>\n",
       "      <td>Southampton</td>\n",
       "      <td>no</td>\n",
       "      <td>False</td>\n",
       "    </tr>\n",
       "    <tr>\n",
       "      <th>1</th>\n",
       "      <td>1</td>\n",
       "      <td>1</td>\n",
       "      <td>female</td>\n",
       "      <td>38.0</td>\n",
       "      <td>1</td>\n",
       "      <td>0</td>\n",
       "      <td>71.2833</td>\n",
       "      <td>C</td>\n",
       "      <td>First</td>\n",
       "      <td>woman</td>\n",
       "      <td>False</td>\n",
       "      <td>C</td>\n",
       "      <td>Cherbourg</td>\n",
       "      <td>yes</td>\n",
       "      <td>False</td>\n",
       "    </tr>\n",
       "    <tr>\n",
       "      <th>2</th>\n",
       "      <td>1</td>\n",
       "      <td>3</td>\n",
       "      <td>female</td>\n",
       "      <td>26.0</td>\n",
       "      <td>0</td>\n",
       "      <td>0</td>\n",
       "      <td>7.9250</td>\n",
       "      <td>S</td>\n",
       "      <td>Third</td>\n",
       "      <td>woman</td>\n",
       "      <td>False</td>\n",
       "      <td>NaN</td>\n",
       "      <td>Southampton</td>\n",
       "      <td>yes</td>\n",
       "      <td>True</td>\n",
       "    </tr>\n",
       "    <tr>\n",
       "      <th>3</th>\n",
       "      <td>1</td>\n",
       "      <td>1</td>\n",
       "      <td>female</td>\n",
       "      <td>35.0</td>\n",
       "      <td>1</td>\n",
       "      <td>0</td>\n",
       "      <td>53.1000</td>\n",
       "      <td>S</td>\n",
       "      <td>First</td>\n",
       "      <td>woman</td>\n",
       "      <td>False</td>\n",
       "      <td>C</td>\n",
       "      <td>Southampton</td>\n",
       "      <td>yes</td>\n",
       "      <td>False</td>\n",
       "    </tr>\n",
       "    <tr>\n",
       "      <th>4</th>\n",
       "      <td>0</td>\n",
       "      <td>3</td>\n",
       "      <td>male</td>\n",
       "      <td>35.0</td>\n",
       "      <td>0</td>\n",
       "      <td>0</td>\n",
       "      <td>8.0500</td>\n",
       "      <td>S</td>\n",
       "      <td>Third</td>\n",
       "      <td>man</td>\n",
       "      <td>True</td>\n",
       "      <td>NaN</td>\n",
       "      <td>Southampton</td>\n",
       "      <td>no</td>\n",
       "      <td>True</td>\n",
       "    </tr>\n",
       "  </tbody>\n",
       "</table>\n",
       "</div>"
      ],
      "text/plain": [
       "   survived  pclass     sex   age  sibsp  parch     fare embarked  class  \\\n",
       "0         0       3    male  22.0      1      0   7.2500        S  Third   \n",
       "1         1       1  female  38.0      1      0  71.2833        C  First   \n",
       "2         1       3  female  26.0      0      0   7.9250        S  Third   \n",
       "3         1       1  female  35.0      1      0  53.1000        S  First   \n",
       "4         0       3    male  35.0      0      0   8.0500        S  Third   \n",
       "\n",
       "     who  adult_male deck  embark_town alive  alone  \n",
       "0    man        True  NaN  Southampton    no  False  \n",
       "1  woman       False    C    Cherbourg   yes  False  \n",
       "2  woman       False  NaN  Southampton   yes   True  \n",
       "3  woman       False    C  Southampton   yes  False  \n",
       "4    man        True  NaN  Southampton    no   True  "
      ]
     },
     "execution_count": 7,
     "metadata": {},
     "output_type": "execute_result"
    }
   ],
   "source": [
    "titanic.head()"
   ]
  },
  {
   "cell_type": "code",
   "execution_count": 8,
   "metadata": {},
   "outputs": [
    {
     "data": {
      "text/plain": [
       "0.118"
      ]
     },
     "execution_count": 8,
     "metadata": {},
     "output_type": "execute_result"
    }
   ],
   "source": [
    "#1st passenger: male, age 22, third class\n",
    "1.1250 - 0.4795 -0.4066 -0.0055*22"
   ]
  },
  {
   "cell_type": "code",
   "execution_count": 9,
   "metadata": {},
   "outputs": [
    {
     "data": {
      "text/plain": [
       "0.916"
      ]
     },
     "execution_count": 9,
     "metadata": {},
     "output_type": "execute_result"
    }
   ],
   "source": [
    "#2nd passenger: female, age 38, first class\n",
    "1.1250 -0.0055*38"
   ]
  },
  {
   "cell_type": "code",
   "execution_count": 6,
   "metadata": {},
   "outputs": [
    {
     "data": {
      "text/plain": [
       "array([0.119, 0.918])"
      ]
     },
     "execution_count": 6,
     "metadata": {},
     "output_type": "execute_result"
    }
   ],
   "source": [
    "#https://www.statsmodels.org/dev/examples/notebooks/generated/predict.html\n",
    "est.predict()[0:2]"
   ]
  },
  {
   "cell_type": "markdown",
   "metadata": {},
   "source": [
    "The intercept $\\beta_{0}$ gives the survival \"probability\" for a female, first class passenger with age 0.\n",
    "\n",
    "$\\beta_{1}$ gives the intercept/shift for a male passenger."
   ]
  },
  {
   "cell_type": "markdown",
   "metadata": {},
   "source": [
    "Test the hypothesis that being a third class passenger lowered the survival probability by as much as one half relative to 1st class, i.e. $H_0: \\beta_{Pclass3} \\leq  -0.5$."
   ]
  },
  {
   "cell_type": "markdown",
   "metadata": {},
   "source": [
    "Compute the test statistic:\n",
    "$$\n",
    "t = \\frac{-0.4066 -(- 0.5)}{0.038} = 2.458\n",
    "$$\n",
    "We reject the Null hypothesis as this t score is larger than e.g. $z_{1 -\\alpha} = z_{0.95} = 1.645$.    "
   ]
  },
  {
   "cell_type": "code",
   "execution_count": null,
   "metadata": {},
   "outputs": [],
   "source": []
  }
 ],
 "metadata": {
  "kernelspec": {
   "display_name": "Python 3",
   "language": "python",
   "name": "python3"
  },
  "language_info": {
   "codemirror_mode": {
    "name": "ipython",
    "version": 3
   },
   "file_extension": ".py",
   "mimetype": "text/x-python",
   "name": "python",
   "nbconvert_exporter": "python",
   "pygments_lexer": "ipython3",
   "version": "3.6.4"
  }
 },
 "nbformat": 4,
 "nbformat_minor": 2
}
